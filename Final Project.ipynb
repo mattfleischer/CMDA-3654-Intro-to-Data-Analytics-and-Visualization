{
 "metadata": {
  "name": "",
  "signature": "sha256:6907693419aed6a5e96b9e2b023206133035873a68cff51ed04f6a30b7424528"
 },
 "nbformat": 3,
 "nbformat_minor": 0,
 "worksheets": [
  {
   "cells": [
    {
     "cell_type": "code",
     "collapsed": false,
     "input": [
      "import pandas as pd"
     ],
     "language": "python",
     "metadata": {},
     "outputs": [],
     "prompt_number": 2
    },
    {
     "cell_type": "code",
     "collapsed": false,
     "input": [
      "import matplotlib.pyplot as plt"
     ],
     "language": "python",
     "metadata": {},
     "outputs": [],
     "prompt_number": 3
    },
    {
     "cell_type": "code",
     "collapsed": false,
     "input": [
      "import pyper as pr"
     ],
     "language": "python",
     "metadata": {},
     "outputs": [],
     "prompt_number": 4
    },
    {
     "cell_type": "code",
     "collapsed": false,
     "input": [
      "import scipy as sp"
     ],
     "language": "python",
     "metadata": {},
     "outputs": [],
     "prompt_number": 5
    },
    {
     "cell_type": "code",
     "collapsed": false,
     "input": [
      "import numpy as np"
     ],
     "language": "python",
     "metadata": {},
     "outputs": [],
     "prompt_number": 6
    },
    {
     "cell_type": "code",
     "collapsed": false,
     "input": [
      "import sklearn as sk"
     ],
     "language": "python",
     "metadata": {},
     "outputs": [],
     "prompt_number": 7
    },
    {
     "cell_type": "code",
     "collapsed": false,
     "input": [
      "import matplotlib.patches as mpatches"
     ],
     "language": "python",
     "metadata": {},
     "outputs": [],
     "prompt_number": 8
    },
    {
     "cell_type": "code",
     "collapsed": false,
     "input": [
      "#Import and wrangle data"
     ],
     "language": "python",
     "metadata": {},
     "outputs": []
    },
    {
     "cell_type": "code",
     "collapsed": false,
     "input": [
      "offense = pd.read_csv('C:/Users/Matthew/Documents/CMDA 3654 - Intro to Data Analytics and Visualization/R/Datasets/College Football Offense.csv')"
     ],
     "language": "python",
     "metadata": {},
     "outputs": [],
     "prompt_number": 9
    },
    {
     "cell_type": "code",
     "collapsed": false,
     "input": [
      "defense = pd.read_csv('C:/Users/Matthew/Documents/CMDA 3654 - Intro to Data Analytics and Visualization/R/Datasets/Defense.csv')"
     ],
     "language": "python",
     "metadata": {},
     "outputs": [],
     "prompt_number": 10
    },
    {
     "cell_type": "code",
     "collapsed": true,
     "input": [
      "punting = pd.read_csv('C:/Users/Matthew/Documents/CMDA 3654 - Intro to Data Analytics and Visualization/R/Datasets/College Football Punting.csv')"
     ],
     "language": "python",
     "metadata": {},
     "outputs": [],
     "prompt_number": 11
    },
    {
     "cell_type": "code",
     "collapsed": false,
     "input": [
      "offdef = pd.merge(offense,defense)"
     ],
     "language": "python",
     "metadata": {},
     "outputs": [],
     "prompt_number": 12
    },
    {
     "cell_type": "code",
     "collapsed": false,
     "input": [
      "offdef.head()"
     ],
     "language": "python",
     "metadata": {},
     "outputs": [
      {
       "html": [
        "<div style=\"max-height:1000px;max-width:1500px;overflow:auto;\">\n",
        "<table border=\"1\" class=\"dataframe\">\n",
        "  <thead>\n",
        "    <tr style=\"text-align: right;\">\n",
        "      <th></th>\n",
        "      <th>RK</th>\n",
        "      <th>TEAM</th>\n",
        "      <th>YDS</th>\n",
        "      <th>YDSG</th>\n",
        "      <th>PASS</th>\n",
        "      <th>P YDSG</th>\n",
        "      <th>RUSH</th>\n",
        "      <th>R YDSG</th>\n",
        "      <th>PTS</th>\n",
        "      <th>PTSG</th>\n",
        "      <th>...</th>\n",
        "      <th>Winning Percentage</th>\n",
        "      <th>DRK</th>\n",
        "      <th>YDSA</th>\n",
        "      <th>YDSAG</th>\n",
        "      <th>PASSA</th>\n",
        "      <th>P YDSAG</th>\n",
        "      <th>RUSHA</th>\n",
        "      <th>R YDSAG</th>\n",
        "      <th>PTSA</th>\n",
        "      <th>PTSAG</th>\n",
        "    </tr>\n",
        "  </thead>\n",
        "  <tbody>\n",
        "    <tr>\n",
        "      <th>0</th>\n",
        "      <td> 1</td>\n",
        "      <td>            Baylor</td>\n",
        "      <td> 8044</td>\n",
        "      <td> 619</td>\n",
        "      <td> 4668</td>\n",
        "      <td> 359.1</td>\n",
        "      <td> 3376</td>\n",
        "      <td> 259.7</td>\n",
        "      <td> 681</td>\n",
        "      <td> 52.4</td>\n",
        "      <td>...</td>\n",
        "      <td> 0.846154</td>\n",
        "      <td>  32</td>\n",
        "      <td> 4684</td>\n",
        "      <td> 360</td>\n",
        "      <td> 2794</td>\n",
        "      <td> 214.9</td>\n",
        "      <td> 1890</td>\n",
        "      <td> 145.4</td>\n",
        "      <td> 306</td>\n",
        "      <td> 23.5</td>\n",
        "    </tr>\n",
        "    <tr>\n",
        "      <th>1</th>\n",
        "      <td> 2</td>\n",
        "      <td>            Oregon</td>\n",
        "      <td> 7345</td>\n",
        "      <td> 565</td>\n",
        "      <td> 3789</td>\n",
        "      <td> 291.5</td>\n",
        "      <td> 3556</td>\n",
        "      <td> 273.5</td>\n",
        "      <td> 591</td>\n",
        "      <td> 45.5</td>\n",
        "      <td>...</td>\n",
        "      <td> 0.846154</td>\n",
        "      <td>  44</td>\n",
        "      <td> 4811</td>\n",
        "      <td> 370</td>\n",
        "      <td> 2659</td>\n",
        "      <td> 204.5</td>\n",
        "      <td> 2152</td>\n",
        "      <td> 165.5</td>\n",
        "      <td> 266</td>\n",
        "      <td> 20.5</td>\n",
        "    </tr>\n",
        "    <tr>\n",
        "      <th>2</th>\n",
        "      <td> 3</td>\n",
        "      <td> Northern Illinois</td>\n",
        "      <td> 7277</td>\n",
        "      <td> 520</td>\n",
        "      <td> 3116</td>\n",
        "      <td> 222.6</td>\n",
        "      <td> 4161</td>\n",
        "      <td> 297.2</td>\n",
        "      <td> 555</td>\n",
        "      <td> 39.6</td>\n",
        "      <td>...</td>\n",
        "      <td> 0.857143</td>\n",
        "      <td> 109</td>\n",
        "      <td> 5808</td>\n",
        "      <td> 415</td>\n",
        "      <td> 3684</td>\n",
        "      <td> 263.1</td>\n",
        "      <td> 2124</td>\n",
        "      <td> 151.7</td>\n",
        "      <td> 351</td>\n",
        "      <td> 25.1</td>\n",
        "    </tr>\n",
        "    <tr>\n",
        "      <th>3</th>\n",
        "      <td> 4</td>\n",
        "      <td>     Florida State</td>\n",
        "      <td> 7267</td>\n",
        "      <td> 519</td>\n",
        "      <td> 4423</td>\n",
        "      <td> 315.9</td>\n",
        "      <td> 2844</td>\n",
        "      <td> 203.1</td>\n",
        "      <td> 723</td>\n",
        "      <td> 51.6</td>\n",
        "      <td>...</td>\n",
        "      <td> 1.000000</td>\n",
        "      <td>   7</td>\n",
        "      <td> 3940</td>\n",
        "      <td> 281</td>\n",
        "      <td> 2193</td>\n",
        "      <td> 156.6</td>\n",
        "      <td> 1747</td>\n",
        "      <td> 124.8</td>\n",
        "      <td> 170</td>\n",
        "      <td> 12.1</td>\n",
        "    </tr>\n",
        "    <tr>\n",
        "      <th>4</th>\n",
        "      <td> 5</td>\n",
        "      <td>        Ohio State</td>\n",
        "      <td> 7167</td>\n",
        "      <td> 512</td>\n",
        "      <td> 2846</td>\n",
        "      <td> 203.3</td>\n",
        "      <td> 4321</td>\n",
        "      <td> 308.6</td>\n",
        "      <td> 637</td>\n",
        "      <td> 45.5</td>\n",
        "      <td>...</td>\n",
        "      <td> 0.857143</td>\n",
        "      <td>  84</td>\n",
        "      <td> 5284</td>\n",
        "      <td> 377</td>\n",
        "      <td> 3752</td>\n",
        "      <td> 268.0</td>\n",
        "      <td> 1532</td>\n",
        "      <td> 109.4</td>\n",
        "      <td> 317</td>\n",
        "      <td> 22.6</td>\n",
        "    </tr>\n",
        "  </tbody>\n",
        "</table>\n",
        "<p>5 rows \u00d7 23 columns</p>\n",
        "</div>"
       ],
       "metadata": {},
       "output_type": "pyout",
       "prompt_number": 13,
       "text": [
        "   RK               TEAM   YDS  YDSG  PASS  P YDSG  RUSH  R YDSG  PTS  PTSG  \\\n",
        "0   1             Baylor  8044   619  4668   359.1  3376   259.7  681  52.4   \n",
        "1   2             Oregon  7345   565  3789   291.5  3556   273.5  591  45.5   \n",
        "2   3  Northern Illinois  7277   520  3116   222.6  4161   297.2  555  39.6   \n",
        "3   4      Florida State  7267   519  4423   315.9  2844   203.1  723  51.6   \n",
        "4   5         Ohio State  7167   512  2846   203.3  4321   308.6  637  45.5   \n",
        "\n",
        "   ...  Winning Percentage  DRK  YDSA  YDSAG  PASSA  P YDSAG  RUSHA  R YDSAG  \\\n",
        "0  ...            0.846154   32  4684    360   2794    214.9   1890    145.4   \n",
        "1  ...            0.846154   44  4811    370   2659    204.5   2152    165.5   \n",
        "2  ...            0.857143  109  5808    415   3684    263.1   2124    151.7   \n",
        "3  ...            1.000000    7  3940    281   2193    156.6   1747    124.8   \n",
        "4  ...            0.857143   84  5284    377   3752    268.0   1532    109.4   \n",
        "\n",
        "   PTSA  PTSAG  \n",
        "0   306   23.5  \n",
        "1   266   20.5  \n",
        "2   351   25.1  \n",
        "3   170   12.1  \n",
        "4   317   22.6  \n",
        "\n",
        "[5 rows x 23 columns]"
       ]
      }
     ],
     "prompt_number": 13
    },
    {
     "cell_type": "code",
     "collapsed": false,
     "input": [
      "football=pd.merge(offdef,punting)"
     ],
     "language": "python",
     "metadata": {},
     "outputs": [],
     "prompt_number": 14
    },
    {
     "cell_type": "code",
     "collapsed": false,
     "input": [
      "football.head()"
     ],
     "language": "python",
     "metadata": {},
     "outputs": [
      {
       "html": [
        "<div style=\"max-height:1000px;max-width:1500px;overflow:auto;\">\n",
        "<table border=\"1\" class=\"dataframe\">\n",
        "  <thead>\n",
        "    <tr style=\"text-align: right;\">\n",
        "      <th></th>\n",
        "      <th>RK</th>\n",
        "      <th>TEAM</th>\n",
        "      <th>YDS</th>\n",
        "      <th>YDSG</th>\n",
        "      <th>PASS</th>\n",
        "      <th>P YDSG</th>\n",
        "      <th>RUSH</th>\n",
        "      <th>R YDSG</th>\n",
        "      <th>PTS</th>\n",
        "      <th>PTSG</th>\n",
        "      <th>...</th>\n",
        "      <th>PTSAG</th>\n",
        "      <th>PRK</th>\n",
        "      <th>PUNTS</th>\n",
        "      <th>PUNTYDS</th>\n",
        "      <th>LNGPUNT</th>\n",
        "      <th>AVGPUNT</th>\n",
        "      <th>NETPUNT</th>\n",
        "      <th>PUNTSRET</th>\n",
        "      <th>PUNTRETY</th>\n",
        "      <th>PUNTRETAVG</th>\n",
        "    </tr>\n",
        "  </thead>\n",
        "  <tbody>\n",
        "    <tr>\n",
        "      <th>0</th>\n",
        "      <td> 1</td>\n",
        "      <td>            Baylor</td>\n",
        "      <td> 8044</td>\n",
        "      <td> 619</td>\n",
        "      <td> 4668</td>\n",
        "      <td> 359.1</td>\n",
        "      <td> 3376</td>\n",
        "      <td> 259.7</td>\n",
        "      <td> 681</td>\n",
        "      <td> 52.4</td>\n",
        "      <td>...</td>\n",
        "      <td> 23.5</td>\n",
        "      <td>  79</td>\n",
        "      <td> 53</td>\n",
        "      <td> 2379</td>\n",
        "      <td> 72</td>\n",
        "      <td> 44.9</td>\n",
        "      <td> 38.4</td>\n",
        "      <td> 27</td>\n",
        "      <td> 245</td>\n",
        "      <td>  9.1</td>\n",
        "    </tr>\n",
        "    <tr>\n",
        "      <th>1</th>\n",
        "      <td> 2</td>\n",
        "      <td>            Oregon</td>\n",
        "      <td> 7345</td>\n",
        "      <td> 565</td>\n",
        "      <td> 3789</td>\n",
        "      <td> 291.5</td>\n",
        "      <td> 3556</td>\n",
        "      <td> 273.5</td>\n",
        "      <td> 591</td>\n",
        "      <td> 45.5</td>\n",
        "      <td>...</td>\n",
        "      <td> 20.5</td>\n",
        "      <td> 122</td>\n",
        "      <td> 43</td>\n",
        "      <td> 1681</td>\n",
        "      <td> 63</td>\n",
        "      <td> 39.1</td>\n",
        "      <td> 38.5</td>\n",
        "      <td> 21</td>\n",
        "      <td> 269</td>\n",
        "      <td> 12.8</td>\n",
        "    </tr>\n",
        "    <tr>\n",
        "      <th>2</th>\n",
        "      <td> 3</td>\n",
        "      <td> Northern Illinois</td>\n",
        "      <td> 7277</td>\n",
        "      <td> 520</td>\n",
        "      <td> 3116</td>\n",
        "      <td> 222.6</td>\n",
        "      <td> 4161</td>\n",
        "      <td> 297.2</td>\n",
        "      <td> 555</td>\n",
        "      <td> 39.6</td>\n",
        "      <td>...</td>\n",
        "      <td> 25.1</td>\n",
        "      <td> 103</td>\n",
        "      <td> 53</td>\n",
        "      <td> 2071</td>\n",
        "      <td> 56</td>\n",
        "      <td> 39.1</td>\n",
        "      <td> 37.0</td>\n",
        "      <td> 20</td>\n",
        "      <td> 161</td>\n",
        "      <td>  8.1</td>\n",
        "    </tr>\n",
        "    <tr>\n",
        "      <th>3</th>\n",
        "      <td> 4</td>\n",
        "      <td>     Florida State</td>\n",
        "      <td> 7267</td>\n",
        "      <td> 519</td>\n",
        "      <td> 4423</td>\n",
        "      <td> 315.9</td>\n",
        "      <td> 2844</td>\n",
        "      <td> 203.1</td>\n",
        "      <td> 723</td>\n",
        "      <td> 51.6</td>\n",
        "      <td>...</td>\n",
        "      <td> 12.1</td>\n",
        "      <td> 120</td>\n",
        "      <td> 42</td>\n",
        "      <td> 1725</td>\n",
        "      <td> 59</td>\n",
        "      <td> 41.1</td>\n",
        "      <td> 34.5</td>\n",
        "      <td> 34</td>\n",
        "      <td> 340</td>\n",
        "      <td> 10.0</td>\n",
        "    </tr>\n",
        "    <tr>\n",
        "      <th>4</th>\n",
        "      <td> 5</td>\n",
        "      <td>        Ohio State</td>\n",
        "      <td> 7167</td>\n",
        "      <td> 512</td>\n",
        "      <td> 2846</td>\n",
        "      <td> 203.3</td>\n",
        "      <td> 4321</td>\n",
        "      <td> 308.6</td>\n",
        "      <td> 637</td>\n",
        "      <td> 45.5</td>\n",
        "      <td>...</td>\n",
        "      <td> 22.6</td>\n",
        "      <td>  92</td>\n",
        "      <td> 49</td>\n",
        "      <td> 2156</td>\n",
        "      <td> 71</td>\n",
        "      <td> 44.0</td>\n",
        "      <td> 40.8</td>\n",
        "      <td> 29</td>\n",
        "      <td> 244</td>\n",
        "      <td>  8.4</td>\n",
        "    </tr>\n",
        "  </tbody>\n",
        "</table>\n",
        "<p>5 rows \u00d7 32 columns</p>\n",
        "</div>"
       ],
       "metadata": {},
       "output_type": "pyout",
       "prompt_number": 15,
       "text": [
        "   RK               TEAM   YDS  YDSG  PASS  P YDSG  RUSH  R YDSG  PTS  PTSG  \\\n",
        "0   1             Baylor  8044   619  4668   359.1  3376   259.7  681  52.4   \n",
        "1   2             Oregon  7345   565  3789   291.5  3556   273.5  591  45.5   \n",
        "2   3  Northern Illinois  7277   520  3116   222.6  4161   297.2  555  39.6   \n",
        "3   4      Florida State  7267   519  4423   315.9  2844   203.1  723  51.6   \n",
        "4   5         Ohio State  7167   512  2846   203.3  4321   308.6  637  45.5   \n",
        "\n",
        "   ...  PTSAG  PRK  PUNTS  PUNTYDS  LNGPUNT  AVGPUNT  NETPUNT  PUNTSRET  \\\n",
        "0  ...   23.5   79     53     2379       72     44.9     38.4        27   \n",
        "1  ...   20.5  122     43     1681       63     39.1     38.5        21   \n",
        "2  ...   25.1  103     53     2071       56     39.1     37.0        20   \n",
        "3  ...   12.1  120     42     1725       59     41.1     34.5        34   \n",
        "4  ...   22.6   92     49     2156       71     44.0     40.8        29   \n",
        "\n",
        "   PUNTRETY  PUNTRETAVG  \n",
        "0       245         9.1  \n",
        "1       269        12.8  \n",
        "2       161         8.1  \n",
        "3       340        10.0  \n",
        "4       244         8.4  \n",
        "\n",
        "[5 rows x 32 columns]"
       ]
      }
     ],
     "prompt_number": 15
    },
    {
     "cell_type": "code",
     "collapsed": false,
     "input": [
      "fbclean = football.drop(['RK','YDS','PASS','RUSH','PTS','Wins','Losses','DRK','YDSA','PASSA','P YDSAG','RUSHA','R YDSAG','PTSA','PRK','PUNTS','PUNTYDS','LNGPUNT','AVGPUNT','PUNTSRET','PUNTRETY', 'PTSG','PTSAG','CONFERENCE'], 1)"
     ],
     "language": "python",
     "metadata": {},
     "outputs": [],
     "prompt_number": 16
    },
    {
     "cell_type": "code",
     "collapsed": false,
     "input": [
      "fbclean.head()"
     ],
     "language": "python",
     "metadata": {},
     "outputs": [
      {
       "html": [
        "<div style=\"max-height:1000px;max-width:1500px;overflow:auto;\">\n",
        "<table border=\"1\" class=\"dataframe\">\n",
        "  <thead>\n",
        "    <tr style=\"text-align: right;\">\n",
        "      <th></th>\n",
        "      <th>TEAM</th>\n",
        "      <th>YDSG</th>\n",
        "      <th>P YDSG</th>\n",
        "      <th>R YDSG</th>\n",
        "      <th>Winning Percentage</th>\n",
        "      <th>YDSAG</th>\n",
        "      <th>NETPUNT</th>\n",
        "      <th>PUNTRETAVG</th>\n",
        "    </tr>\n",
        "  </thead>\n",
        "  <tbody>\n",
        "    <tr>\n",
        "      <th>0</th>\n",
        "      <td>            Baylor</td>\n",
        "      <td> 619</td>\n",
        "      <td> 359.1</td>\n",
        "      <td> 259.7</td>\n",
        "      <td> 0.846154</td>\n",
        "      <td> 360</td>\n",
        "      <td> 38.4</td>\n",
        "      <td>  9.1</td>\n",
        "    </tr>\n",
        "    <tr>\n",
        "      <th>1</th>\n",
        "      <td>            Oregon</td>\n",
        "      <td> 565</td>\n",
        "      <td> 291.5</td>\n",
        "      <td> 273.5</td>\n",
        "      <td> 0.846154</td>\n",
        "      <td> 370</td>\n",
        "      <td> 38.5</td>\n",
        "      <td> 12.8</td>\n",
        "    </tr>\n",
        "    <tr>\n",
        "      <th>2</th>\n",
        "      <td> Northern Illinois</td>\n",
        "      <td> 520</td>\n",
        "      <td> 222.6</td>\n",
        "      <td> 297.2</td>\n",
        "      <td> 0.857143</td>\n",
        "      <td> 415</td>\n",
        "      <td> 37.0</td>\n",
        "      <td>  8.1</td>\n",
        "    </tr>\n",
        "    <tr>\n",
        "      <th>3</th>\n",
        "      <td>     Florida State</td>\n",
        "      <td> 519</td>\n",
        "      <td> 315.9</td>\n",
        "      <td> 203.1</td>\n",
        "      <td> 1.000000</td>\n",
        "      <td> 281</td>\n",
        "      <td> 34.5</td>\n",
        "      <td> 10.0</td>\n",
        "    </tr>\n",
        "    <tr>\n",
        "      <th>4</th>\n",
        "      <td>        Ohio State</td>\n",
        "      <td> 512</td>\n",
        "      <td> 203.3</td>\n",
        "      <td> 308.6</td>\n",
        "      <td> 0.857143</td>\n",
        "      <td> 377</td>\n",
        "      <td> 40.8</td>\n",
        "      <td>  8.4</td>\n",
        "    </tr>\n",
        "  </tbody>\n",
        "</table>\n",
        "</div>"
       ],
       "metadata": {},
       "output_type": "pyout",
       "prompt_number": 17,
       "text": [
        "                TEAM  YDSG  P YDSG  R YDSG  Winning Percentage  YDSAG  \\\n",
        "0             Baylor   619   359.1   259.7            0.846154    360   \n",
        "1             Oregon   565   291.5   273.5            0.846154    370   \n",
        "2  Northern Illinois   520   222.6   297.2            0.857143    415   \n",
        "3      Florida State   519   315.9   203.1            1.000000    281   \n",
        "4         Ohio State   512   203.3   308.6            0.857143    377   \n",
        "\n",
        "   NETPUNT  PUNTRETAVG  \n",
        "0     38.4         9.1  \n",
        "1     38.5        12.8  \n",
        "2     37.0         8.1  \n",
        "3     34.5        10.0  \n",
        "4     40.8         8.4  "
       ]
      }
     ],
     "prompt_number": 17
    },
    {
     "cell_type": "code",
     "collapsed": false,
     "input": [
      "bins = [-.1,.5,1]"
     ],
     "language": "python",
     "metadata": {},
     "outputs": [],
     "prompt_number": 18
    },
    {
     "cell_type": "code",
     "collapsed": false,
     "input": [
      "pct = fbclean['Winning Percentage']"
     ],
     "language": "python",
     "metadata": {},
     "outputs": [],
     "prompt_number": 19
    },
    {
     "cell_type": "code",
     "collapsed": false,
     "input": [
      "fbclean['Winning Record'] = pd.cut(pct,bins)"
     ],
     "language": "python",
     "metadata": {},
     "outputs": [],
     "prompt_number": 20
    },
    {
     "cell_type": "code",
     "collapsed": false,
     "input": [
      "pd.value_counts(fbclean['Winning Record'])"
     ],
     "language": "python",
     "metadata": {},
     "outputs": [
      {
       "metadata": {},
       "output_type": "pyout",
       "prompt_number": 21,
       "text": [
        "(0.5, 1]       71\n",
        "(-0.1, 0.5]    48\n",
        "dtype: int64"
       ]
      }
     ],
     "prompt_number": 21
    },
    {
     "cell_type": "code",
     "collapsed": false,
     "input": [
      "pctcat = {'(-0.1, 0.5]': 0, '(0.5, 1]': 1}"
     ],
     "language": "python",
     "metadata": {},
     "outputs": [],
     "prompt_number": 22
    },
    {
     "cell_type": "code",
     "collapsed": false,
     "input": [
      "fbclean['Winning Record Binary'] = fbclean['Winning Record'].map(pctcat)"
     ],
     "language": "python",
     "metadata": {},
     "outputs": [],
     "prompt_number": 23
    },
    {
     "cell_type": "code",
     "collapsed": false,
     "input": [
      "fbclean.head()"
     ],
     "language": "python",
     "metadata": {},
     "outputs": [
      {
       "html": [
        "<div style=\"max-height:1000px;max-width:1500px;overflow:auto;\">\n",
        "<table border=\"1\" class=\"dataframe\">\n",
        "  <thead>\n",
        "    <tr style=\"text-align: right;\">\n",
        "      <th></th>\n",
        "      <th>TEAM</th>\n",
        "      <th>YDSG</th>\n",
        "      <th>P YDSG</th>\n",
        "      <th>R YDSG</th>\n",
        "      <th>Winning Percentage</th>\n",
        "      <th>YDSAG</th>\n",
        "      <th>NETPUNT</th>\n",
        "      <th>PUNTRETAVG</th>\n",
        "      <th>Winning Record</th>\n",
        "      <th>Winning Record Binary</th>\n",
        "    </tr>\n",
        "  </thead>\n",
        "  <tbody>\n",
        "    <tr>\n",
        "      <th>0</th>\n",
        "      <td>            Baylor</td>\n",
        "      <td> 619</td>\n",
        "      <td> 359.1</td>\n",
        "      <td> 259.7</td>\n",
        "      <td> 0.846154</td>\n",
        "      <td> 360</td>\n",
        "      <td> 38.4</td>\n",
        "      <td>  9.1</td>\n",
        "      <td> (0.5, 1]</td>\n",
        "      <td> 1</td>\n",
        "    </tr>\n",
        "    <tr>\n",
        "      <th>1</th>\n",
        "      <td>            Oregon</td>\n",
        "      <td> 565</td>\n",
        "      <td> 291.5</td>\n",
        "      <td> 273.5</td>\n",
        "      <td> 0.846154</td>\n",
        "      <td> 370</td>\n",
        "      <td> 38.5</td>\n",
        "      <td> 12.8</td>\n",
        "      <td> (0.5, 1]</td>\n",
        "      <td> 1</td>\n",
        "    </tr>\n",
        "    <tr>\n",
        "      <th>2</th>\n",
        "      <td> Northern Illinois</td>\n",
        "      <td> 520</td>\n",
        "      <td> 222.6</td>\n",
        "      <td> 297.2</td>\n",
        "      <td> 0.857143</td>\n",
        "      <td> 415</td>\n",
        "      <td> 37.0</td>\n",
        "      <td>  8.1</td>\n",
        "      <td> (0.5, 1]</td>\n",
        "      <td> 1</td>\n",
        "    </tr>\n",
        "    <tr>\n",
        "      <th>3</th>\n",
        "      <td>     Florida State</td>\n",
        "      <td> 519</td>\n",
        "      <td> 315.9</td>\n",
        "      <td> 203.1</td>\n",
        "      <td> 1.000000</td>\n",
        "      <td> 281</td>\n",
        "      <td> 34.5</td>\n",
        "      <td> 10.0</td>\n",
        "      <td> (0.5, 1]</td>\n",
        "      <td> 1</td>\n",
        "    </tr>\n",
        "    <tr>\n",
        "      <th>4</th>\n",
        "      <td>        Ohio State</td>\n",
        "      <td> 512</td>\n",
        "      <td> 203.3</td>\n",
        "      <td> 308.6</td>\n",
        "      <td> 0.857143</td>\n",
        "      <td> 377</td>\n",
        "      <td> 40.8</td>\n",
        "      <td>  8.4</td>\n",
        "      <td> (0.5, 1]</td>\n",
        "      <td> 1</td>\n",
        "    </tr>\n",
        "  </tbody>\n",
        "</table>\n",
        "</div>"
       ],
       "metadata": {},
       "output_type": "pyout",
       "prompt_number": 24,
       "text": [
        "                TEAM  YDSG  P YDSG  R YDSG  Winning Percentage  YDSAG  \\\n",
        "0             Baylor   619   359.1   259.7            0.846154    360   \n",
        "1             Oregon   565   291.5   273.5            0.846154    370   \n",
        "2  Northern Illinois   520   222.6   297.2            0.857143    415   \n",
        "3      Florida State   519   315.9   203.1            1.000000    281   \n",
        "4         Ohio State   512   203.3   308.6            0.857143    377   \n",
        "\n",
        "   NETPUNT  PUNTRETAVG Winning Record  Winning Record Binary  \n",
        "0     38.4         9.1       (0.5, 1]                      1  \n",
        "1     38.5        12.8       (0.5, 1]                      1  \n",
        "2     37.0         8.1       (0.5, 1]                      1  \n",
        "3     34.5        10.0       (0.5, 1]                      1  \n",
        "4     40.8         8.4       (0.5, 1]                      1  "
       ]
      }
     ],
     "prompt_number": 24
    },
    {
     "cell_type": "code",
     "collapsed": false,
     "input": [
      "fbclean.to_pickle('fbclean_pickle')"
     ],
     "language": "python",
     "metadata": {},
     "outputs": [],
     "prompt_number": 25
    },
    {
     "cell_type": "code",
     "collapsed": false,
     "input": [
      "pd.value_counts(fbclean['Winning Record'])"
     ],
     "language": "python",
     "metadata": {},
     "outputs": [
      {
       "metadata": {},
       "output_type": "pyout",
       "prompt_number": 26,
       "text": [
        "(0.5, 1]       71\n",
        "(-0.1, 0.5]    48\n",
        "dtype: int64"
       ]
      }
     ],
     "prompt_number": 26
    },
    {
     "cell_type": "code",
     "collapsed": false,
     "input": [
      "fbclean.to_csv('C:/Users/Matthew/Documents/CMDA 3654 - Intro to Data Analytics and Visualization/R/Datasets/fbclean.csv')"
     ],
     "language": "python",
     "metadata": {},
     "outputs": [],
     "prompt_number": 27
    },
    {
     "cell_type": "code",
     "collapsed": false,
     "input": [
      "fbclean.describe()"
     ],
     "language": "python",
     "metadata": {},
     "outputs": [
      {
       "html": [
        "<div style=\"max-height:1000px;max-width:1500px;overflow:auto;\">\n",
        "<table border=\"1\" class=\"dataframe\">\n",
        "  <thead>\n",
        "    <tr style=\"text-align: right;\">\n",
        "      <th></th>\n",
        "      <th>YDSG</th>\n",
        "      <th>P YDSG</th>\n",
        "      <th>R YDSG</th>\n",
        "      <th>Winning Percentage</th>\n",
        "      <th>YDSAG</th>\n",
        "      <th>NETPUNT</th>\n",
        "      <th>PUNTRETAVG</th>\n",
        "      <th>Winning Record Binary</th>\n",
        "    </tr>\n",
        "  </thead>\n",
        "  <tbody>\n",
        "    <tr>\n",
        "      <th>count</th>\n",
        "      <td> 119.000000</td>\n",
        "      <td> 119.000000</td>\n",
        "      <td> 119.000000</td>\n",
        "      <td> 119.000000</td>\n",
        "      <td> 119.000000</td>\n",
        "      <td> 119.000000</td>\n",
        "      <td> 119.000000</td>\n",
        "      <td> 119.000000</td>\n",
        "    </tr>\n",
        "    <tr>\n",
        "      <th>mean</th>\n",
        "      <td> 412.000000</td>\n",
        "      <td> 235.532773</td>\n",
        "      <td> 176.448739</td>\n",
        "      <td>   0.528350</td>\n",
        "      <td> 397.420168</td>\n",
        "      <td>  37.057983</td>\n",
        "      <td>   8.499160</td>\n",
        "      <td>   0.596639</td>\n",
        "    </tr>\n",
        "    <tr>\n",
        "      <th>std</th>\n",
        "      <td>  64.726282</td>\n",
        "      <td>  60.181826</td>\n",
        "      <td>  54.842588</td>\n",
        "      <td>   0.234779</td>\n",
        "      <td>  55.330823</td>\n",
        "      <td>   2.101634</td>\n",
        "      <td>   3.417539</td>\n",
        "      <td>   0.492646</td>\n",
        "    </tr>\n",
        "    <tr>\n",
        "      <th>min</th>\n",
        "      <td> 256.000000</td>\n",
        "      <td>  77.600000</td>\n",
        "      <td>  53.400000</td>\n",
        "      <td>   0.000000</td>\n",
        "      <td> 252.000000</td>\n",
        "      <td>  31.300000</td>\n",
        "      <td>   2.900000</td>\n",
        "      <td>   0.000000</td>\n",
        "    </tr>\n",
        "    <tr>\n",
        "      <th>25%</th>\n",
        "      <td> 367.000000</td>\n",
        "      <td> 197.900000</td>\n",
        "      <td> 140.550000</td>\n",
        "      <td>   0.333333</td>\n",
        "      <td> 366.000000</td>\n",
        "      <td>  35.850000</td>\n",
        "      <td>   6.000000</td>\n",
        "      <td>   0.000000</td>\n",
        "    </tr>\n",
        "    <tr>\n",
        "      <th>50%</th>\n",
        "      <td> 411.000000</td>\n",
        "      <td> 235.600000</td>\n",
        "      <td> 172.800000</td>\n",
        "      <td>   0.538462</td>\n",
        "      <td> 398.000000</td>\n",
        "      <td>  36.900000</td>\n",
        "      <td>   8.100000</td>\n",
        "      <td>   1.000000</td>\n",
        "    </tr>\n",
        "    <tr>\n",
        "      <th>75%</th>\n",
        "      <td> 455.500000</td>\n",
        "      <td> 265.700000</td>\n",
        "      <td> 200.550000</td>\n",
        "      <td>   0.692308</td>\n",
        "      <td> 426.500000</td>\n",
        "      <td>  38.250000</td>\n",
        "      <td>  11.200000</td>\n",
        "      <td>   1.000000</td>\n",
        "    </tr>\n",
        "    <tr>\n",
        "      <th>max</th>\n",
        "      <td> 619.000000</td>\n",
        "      <td> 394.800000</td>\n",
        "      <td> 328.300000</td>\n",
        "      <td>   1.000000</td>\n",
        "      <td> 528.000000</td>\n",
        "      <td>  42.400000</td>\n",
        "      <td>  18.100000</td>\n",
        "      <td>   1.000000</td>\n",
        "    </tr>\n",
        "  </tbody>\n",
        "</table>\n",
        "</div>"
       ],
       "metadata": {},
       "output_type": "pyout",
       "prompt_number": 28,
       "text": [
        "             YDSG      P YDSG      R YDSG  Winning Percentage       YDSAG  \\\n",
        "count  119.000000  119.000000  119.000000          119.000000  119.000000   \n",
        "mean   412.000000  235.532773  176.448739            0.528350  397.420168   \n",
        "std     64.726282   60.181826   54.842588            0.234779   55.330823   \n",
        "min    256.000000   77.600000   53.400000            0.000000  252.000000   \n",
        "25%    367.000000  197.900000  140.550000            0.333333  366.000000   \n",
        "50%    411.000000  235.600000  172.800000            0.538462  398.000000   \n",
        "75%    455.500000  265.700000  200.550000            0.692308  426.500000   \n",
        "max    619.000000  394.800000  328.300000            1.000000  528.000000   \n",
        "\n",
        "          NETPUNT  PUNTRETAVG  Winning Record Binary  \n",
        "count  119.000000  119.000000             119.000000  \n",
        "mean    37.057983    8.499160               0.596639  \n",
        "std      2.101634    3.417539               0.492646  \n",
        "min     31.300000    2.900000               0.000000  \n",
        "25%     35.850000    6.000000               0.000000  \n",
        "50%     36.900000    8.100000               1.000000  \n",
        "75%     38.250000   11.200000               1.000000  \n",
        "max     42.400000   18.100000               1.000000  "
       ]
      }
     ],
     "prompt_number": 28
    },
    {
     "cell_type": "code",
     "collapsed": false,
     "input": [
      "pd.value_counts(fbclean['Winning Record'])"
     ],
     "language": "python",
     "metadata": {},
     "outputs": [
      {
       "metadata": {},
       "output_type": "pyout",
       "prompt_number": 29,
       "text": [
        "(0.5, 1]       71\n",
        "(-0.1, 0.5]    48\n",
        "dtype: int64"
       ]
      }
     ],
     "prompt_number": 29
    },
    {
     "cell_type": "code",
     "collapsed": false,
     "input": [
      "#Yards per game has a mean of 412 and a standard deviation of 64.72\n",
      "#Yards allowed per game has a mean of 397 and a standard deviation of 55.33\n",
      "#Net punting has a mean of 8.5 and a standard deviation of 3.42\n",
      "#Because teams frequently play FCS (a lower division) opponents at the beginning of the season, more teams have winning records than losing"
     ],
     "language": "python",
     "metadata": {},
     "outputs": [],
     "prompt_number": 30
    },
    {
     "cell_type": "code",
     "collapsed": false,
     "input": [
      "#Create Visualizations"
     ],
     "language": "python",
     "metadata": {},
     "outputs": [],
     "prompt_number": 1
    },
    {
     "cell_type": "code",
     "collapsed": false,
     "input": [
      "ydsghist = fbclean['YDSG'].hist(bins=10)\n",
      "ydsghist.set_xlabel('Offensive Yards Per Game')\n",
      "ydsghist.set_ylabel('Frequency')\n",
      "ydsghist.set_title('Histogram of Offensive Yards Per Game')"
     ],
     "language": "python",
     "metadata": {},
     "outputs": [
      {
       "metadata": {},
       "output_type": "pyout",
       "prompt_number": 31,
       "text": [
        "<matplotlib.text.Text at 0x91aa2b0>"
       ]
      },
      {
       "metadata": {},
       "output_type": "display_data",
       "png": "[encoded data removed]",
       "text": [
        "<matplotlib.figure.Figure at 0x915ba58>"
       ]
      }
     ],
     "prompt_number": 31
    },
    {
     "cell_type": "code",
     "collapsed": false,
     "input": [
      "pydsghist = fbclean['P YDSG'].hist(bins=10)\n",
      "pydsghist.set_xlabel('Pass Yards Per Game')\n",
      "pydsghist.set_ylabel('Frequency')\n",
      "pydsghist.set_title('Histogram of Pass Yards Per Game')"
     ],
     "language": "python",
     "metadata": {},
     "outputs": [
      {
       "metadata": {},
       "output_type": "pyout",
       "prompt_number": 32,
       "text": [
        "<matplotlib.text.Text at 0x93a6da0>"
       ]
      },
      {
       "metadata": {},
       "output_type": "display_data",
       "png": "[encoded data removed]",
       "text": [
        "<matplotlib.figure.Figure at 0x91d9710>"
       ]
      }
     ],
     "prompt_number": 32
    },
    {
     "cell_type": "code",
     "collapsed": false,
     "input": [
      "rydsghist = fbclean['R YDSG'].hist(bins=10)\n",
      "rydsghist.set_xlabel('Rush Yards Per Game')\n",
      "rydsghist.set_ylabel('Frequency')\n",
      "rydsghist.set_title('Histogram of Rush Yards Per Game')"
     ],
     "language": "python",
     "metadata": {},
     "outputs": [
      {
       "metadata": {},
       "output_type": "pyout",
       "prompt_number": 33,
       "text": [
        "<matplotlib.text.Text at 0x96476a0>"
       ]
      },
      {
       "metadata": {},
       "output_type": "display_data",
       "png": "[encoded data removed]",
       "text": [
        "<matplotlib.figure.Figure at 0x93d2f98>"
       ]
      }
     ],
     "prompt_number": 33
    },
    {
     "cell_type": "code",
     "collapsed": false,
     "input": [
      "winpcthist = fbclean['Winning Percentage'].hist(bins=10)\n",
      "winpcthist.set_xlabel('Winning Percentage')\n",
      "winpcthist.set_ylabel('Frequency')\n",
      "winpcthist.set_title('Histogram of Winning Percentage')"
     ],
     "language": "python",
     "metadata": {},
     "outputs": [
      {
       "metadata": {},
       "output_type": "pyout",
       "prompt_number": 34,
       "text": [
        "<matplotlib.text.Text at 0x9914b38>"
       ]
      },
      {
       "metadata": {},
       "output_type": "display_data",
       "png": "[encoded data removed]",
       "text": [
        "<matplotlib.figure.Figure at 0x93a2400>"
       ]
      }
     ],
     "prompt_number": 34
    },
    {
     "cell_type": "code",
     "collapsed": false,
     "input": [
      "ydsaghist = fbclean['YDSAG'].hist(bins=10)\n",
      "ydsaghist.set_xlabel('Yards Against Per Game')\n",
      "ydsaghist.set_ylabel('Frequency')\n",
      "ydsaghist.set_title('Histogram of Yards Against Per Game')"
     ],
     "language": "python",
     "metadata": {},
     "outputs": [
      {
       "metadata": {},
       "output_type": "pyout",
       "prompt_number": 35,
       "text": [
        "<matplotlib.text.Text at 0x9b4f7b8>"
       ]
      },
      {
       "metadata": {},
       "output_type": "display_data",
       "png": "[encoded data removed]",
       "text": [
        "<matplotlib.figure.Figure at 0x9644b70>"
       ]
      }
     ],
     "prompt_number": 35
    },
    {
     "cell_type": "code",
     "collapsed": false,
     "input": [
      "netpunthist = fbclean['NETPUNT'].hist(bins=10)\n",
      "netpunthist.set_xlabel('Net Punt Average')\n",
      "netpunthist.set_ylabel('Frequency')\n",
      "netpunthist.set_title('Histogram of Net Punt Average')"
     ],
     "language": "python",
     "metadata": {},
     "outputs": [
      {
       "metadata": {},
       "output_type": "pyout",
       "prompt_number": 36,
       "text": [
        "<matplotlib.text.Text at 0x9de1c18>"
       ]
      },
      {
       "metadata": {},
       "output_type": "display_data",
       "png": "[encoded data removed]",
       "text": [
        "<matplotlib.figure.Figure at 0x91ceda0>"
       ]
      }
     ],
     "prompt_number": 36
    },
    {
     "cell_type": "code",
     "collapsed": false,
     "input": [
      "returnhist = fbclean['PUNTRETAVG'].hist(bins=10)\n",
      "returnhist.set_xlabel('Punt Return Average')\n",
      "returnhist.set_ylabel('Frequency')\n",
      "returnhist.set_title('Histogram of Punt Return Average')"
     ],
     "language": "python",
     "metadata": {},
     "outputs": [
      {
       "metadata": {},
       "output_type": "pyout",
       "prompt_number": 37,
       "text": [
        "<matplotlib.text.Text at 0x9ee7898>"
       ]
      },
      {
       "metadata": {},
       "output_type": "display_data",
       "png": "[encoded data removed]",
       "text": [
        "<matplotlib.figure.Figure at 0x9942b70>"
       ]
      }
     ],
     "prompt_number": 37
    },
    {
     "cell_type": "code",
     "collapsed": false,
     "input": [
      "ydsgfig = plt.figure(figsize=(5, 4))\n",
      "ydsgscatter = ydsgfig.add_subplot(1,1,1)\n",
      "ydsgscatter.scatter(fbclean['YDSG'],fbclean['Winning Percentage'])\n",
      "ydsgscatter.set_xlabel('Offensive Yards Per Game')\n",
      "ydsgscatter.set_ylabel('Winning Percentage')\n",
      "ydsgscatter.set_title('Scatterplot of Offensive Yards Per Game vs. Winning Percentage')"
     ],
     "language": "python",
     "metadata": {},
     "outputs": [
      {
       "metadata": {},
       "output_type": "pyout",
       "prompt_number": 38,
       "text": [
        "<matplotlib.text.Text at 0xb738f98>"
       ]
      },
      {
       "metadata": {},
       "output_type": "display_data",
       "png": "[encoded data removed]",
       "text": [
        "<matplotlib.figure.Figure at 0x9f10cc0>"
       ]
      }
     ],
     "prompt_number": 38
    },
    {
     "cell_type": "code",
     "collapsed": false,
     "input": [
      "rydsgfig = plt.figure(figsize=(5, 4))\n",
      "rydsgscatter = rydsgfig.add_subplot(1,1,1)\n",
      "rydsgscatter.scatter(fbclean['R YDSG'],fbclean['Winning Percentage'])\n",
      "rydsgscatter.set_xlabel('Rush Yards Per Game')\n",
      "rydsgscatter.set_ylabel('Winning Percentage')\n",
      "rydsgscatter.set_title('Scatterplot of Rush Yards Per Game vs. Winning Percentage')"
     ],
     "language": "python",
     "metadata": {},
     "outputs": [
      {
       "metadata": {},
       "output_type": "pyout",
       "prompt_number": 39,
       "text": [
        "<matplotlib.text.Text at 0xb76b0b8>"
       ]
      },
      {
       "metadata": {},
       "output_type": "display_data",
       "png": "[encoded data removed]",
       "text": [
        "<matplotlib.figure.Figure at 0xb759ac8>"
       ]
      }
     ],
     "prompt_number": 39
    },
    {
     "cell_type": "code",
     "collapsed": false,
     "input": [
      "pydsgfig = plt.figure(figsize=(5, 4))\n",
      "pydsgscatter = pydsgfig.add_subplot(1,1,1)\n",
      "pydsgscatter.scatter(fbclean['P YDSG'],fbclean['Winning Percentage'])\n",
      "pydsgscatter.set_xlabel('Pass Yards Per Game')\n",
      "pydsgscatter.set_ylabel('Winning Percentage')\n",
      "pydsgscatter.set_title('Scatterplot of Pass Yards Per Game vs. Winning Percentage')"
     ],
     "language": "python",
     "metadata": {},
     "outputs": [
      {
       "metadata": {},
       "output_type": "pyout",
       "prompt_number": 40,
       "text": [
        "<matplotlib.text.Text at 0xb9a1390>"
       ]
      },
      {
       "metadata": {},
       "output_type": "display_data",
       "png": "[encoded data removed]",
       "text": [
        "<matplotlib.figure.Figure at 0x9f0ee48>"
       ]
      }
     ],
     "prompt_number": 40
    },
    {
     "cell_type": "code",
     "collapsed": false,
     "input": [
      "ydsagfig = plt.figure(figsize=(5, 4))\n",
      "ydsagscatter = ydsagfig.add_subplot(1,1,1)\n",
      "ydsagscatter.scatter(fbclean['YDSAG'],fbclean['Winning Percentage'])\n",
      "ydsagscatter.set_xlabel('Yards Against Per Game')\n",
      "ydsagscatter.set_ylabel('Winning Percentage')\n",
      "ydsagscatter.set_title('Scatterplot of Yards Against Per Game vs. Winning Percentage')"
     ],
     "language": "python",
     "metadata": {},
     "outputs": [
      {
       "metadata": {},
       "output_type": "pyout",
       "prompt_number": 41,
       "text": [
        "<matplotlib.text.Text at 0xbbecd30>"
       ]
      },
      {
       "metadata": {},
       "output_type": "display_data",
       "png": "[encoded data removed]",
       "text": [
        "<matplotlib.figure.Figure at 0xbbde9e8>"
       ]
      }
     ],
     "prompt_number": 41
    },
    {
     "cell_type": "code",
     "collapsed": false,
     "input": [
      "netpuntfig = plt.figure(figsize=(5,4))\n",
      "netpuntscatter = netpuntfig.add_subplot(1,1,1)\n",
      "netpuntscatter.scatter(fbclean['NETPUNT'],fbclean['Winning Percentage'])\n",
      "netpuntscatter.set_xlabel('Net Punt Average')\n",
      "netpuntscatter.set_ylabel('Winning Percentage')\n",
      "netpuntscatter.set_title('Scatterplot of Net Punt Average vs. Winning Percentage')"
     ],
     "language": "python",
     "metadata": {},
     "outputs": [
      {
       "metadata": {},
       "output_type": "pyout",
       "prompt_number": 42,
       "text": [
        "<matplotlib.text.Text at 0xbea3048>"
       ]
      },
      {
       "metadata": {},
       "output_type": "display_data",
       "png": "[encoded data removed]",
       "text": [
        "<matplotlib.figure.Figure at 0xbc06b38>"
       ]
      }
     ],
     "prompt_number": 42
    },
    {
     "cell_type": "code",
     "collapsed": false,
     "input": [
      "returnfig = plt.figure(figsize=(5,4))\n",
      "returnscatter = returnfig.add_subplot(1,1,1)\n",
      "returnscatter.scatter(fbclean['PUNTRETAVG'],fbclean['Winning Percentage'])\n",
      "returnscatter.set_xlabel('Punt Return Average')\n",
      "returnscatter.set_ylabel('Winning Percentage')\n",
      "returnscatter.set_title('Scatterplot of Punt Return Average vs. Winning Percentage')"
     ],
     "language": "python",
     "metadata": {},
     "outputs": [
      {
       "metadata": {},
       "output_type": "pyout",
       "prompt_number": 43,
       "text": [
        "<matplotlib.text.Text at 0xbed1320>"
       ]
      },
      {
       "metadata": {},
       "output_type": "display_data",
       "png": "[encoded data removed]",
       "text": [
        "<matplotlib.figure.Figure at 0xbebf470>"
       ]
      }
     ],
     "prompt_number": 43
    },
    {
     "cell_type": "code",
     "collapsed": false,
     "input": [
      "#implement linear classification algorithm"
     ],
     "language": "python",
     "metadata": {},
     "outputs": [],
     "prompt_number": 44
    },
    {
     "cell_type": "code",
     "collapsed": false,
     "input": [
      "X = array(fbclean[['YDSG','YDSAG']])"
     ],
     "language": "python",
     "metadata": {},
     "outputs": [],
     "prompt_number": 45
    },
    {
     "cell_type": "code",
     "collapsed": false,
     "input": [
      "y = array(fbclean['Winning Record Binary'])"
     ],
     "language": "python",
     "metadata": {},
     "outputs": [],
     "prompt_number": 46
    },
    {
     "cell_type": "code",
     "collapsed": false,
     "input": [
      "#create training and test sets\n",
      "from sklearn.cross_validation import train_test_split\n",
      "X_train, X_test, y_train, y_test = train_test_split(X, y, test_size=0.25, random_state=33)"
     ],
     "language": "python",
     "metadata": {},
     "outputs": [],
     "prompt_number": 47
    },
    {
     "cell_type": "code",
     "collapsed": false,
     "input": [
      "from sklearn.preprocessing import StandardScaler\n",
      "scaler = StandardScaler().fit(X_train)\n",
      "X_train = scaler.transform(X_train)\n",
      "X_test = scaler.transform(X_test)"
     ],
     "language": "python",
     "metadata": {},
     "outputs": [],
     "prompt_number": 48
    },
    {
     "cell_type": "code",
     "collapsed": false,
     "input": [
      "X_train"
     ],
     "language": "python",
     "metadata": {},
     "outputs": [
      {
       "metadata": {},
       "output_type": "pyout",
       "prompt_number": 49,
       "text": [
        "array([[-0.79829345,  1.38605218],\n",
        "       [-0.15383044,  1.14039311],\n",
        "       [ 1.43374917, -0.33356127],\n",
        "       [-0.65682596,  0.21444741],\n",
        "       [-0.15383044,  0.00658205],\n",
        "       [-0.8611679 ,  0.25224111],\n",
        "       [ 0.82072338,  1.65060809],\n",
        "       [-0.82973067,  0.17665371],\n",
        "       [-0.34245376,  1.49943329],\n",
        "       [ 0.08194871,  0.44120962],\n",
        "       [-0.23242349, -0.54142663],\n",
        "       [ 1.96818192,  0.68686869],\n",
        "       [ 1.10365836,  0.44120962],\n",
        "       [-0.90832373,  1.29156792],\n",
        "       [ 0.01907427,  2.31199788],\n",
        "       [ 0.20769759, -0.8626731 ],\n",
        "       [ 0.03479288, -0.84377625],\n",
        "       [-0.81401206,  0.29003482],\n",
        "       [ 1.22940724, -0.10679906],\n",
        "       [-0.75113762, -0.44694238],\n",
        "       [ 3.11564045, -0.65480774],\n",
        "       [ 1.84243304,  1.53722699],\n",
        "       [-1.72569145, -0.8248794 ],\n",
        "       [ 0.82072338, -0.46583923],\n",
        "       [-1.4899123 ,  0.04437575],\n",
        "       [ 0.41203952,  0.51679703],\n",
        "       [-1.06550983,  0.44120962],\n",
        "       [ 0.74213033, -0.48473608],\n",
        "       [-0.26386071,  0.08216945],\n",
        "       [-1.018354  , -2.09096842],\n",
        "       [-0.32673515, -1.12722902],\n",
        "       [ 0.58494423,  0.11996316],\n",
        "       [-0.37389098, -0.39025182],\n",
        "       [-1.3327262 ,  2.19861678],\n",
        "       [ 1.15081419, -0.29576757],\n",
        "       [ 0.00335566,  1.19708367],\n",
        "       [-1.23841454,  0.04437575],\n",
        "       [-0.23242349, -0.57922033],\n",
        "       [-0.05951878, -0.0123148 ],\n",
        "       [ 0.19197898, -0.25797387],\n",
        "       [ 2.26683551, -0.46583923],\n",
        "       [-0.27957932, -0.67370459],\n",
        "       [-0.16954905, -0.88156995],\n",
        "       [-0.15383044,  0.72466239],\n",
        "       [ 0.50635118, -1.01384791],\n",
        "       [ 0.72641172,  0.8002498 ],\n",
        "       [-0.13811183, -0.44694238],\n",
        "       [-0.01236295,  0.40341592],\n",
        "       [ 0.44347674, -0.18238646],\n",
        "       [ 0.63210006, -2.69566766],\n",
        "       [-1.00263539,  0.34672537],\n",
        "       [ 1.54377944, -2.14765898],\n",
        "       [-0.37389098,  0.0632726 ],\n",
        "       [-0.87688651,  0.34672537],\n",
        "       [-0.64110735, -1.35399123],\n",
        "       [-1.63137979, -1.52406289],\n",
        "       [ 1.41803056,  0.46010648],\n",
        "       [-2.18153114,  0.72466239],\n",
        "       [-1.47419369,  0.46010648],\n",
        "       [-1.70997284, -0.44694238],\n",
        "       [ 1.38659334,  2.51986324],\n",
        "       [ 0.88359782,  0.36562222],\n",
        "       [-2.16581253,  1.23487737],\n",
        "       [-0.92404234, -0.50363293],\n",
        "       [ 0.56922562, -0.42804553],\n",
        "       [-0.95547956,  0.61128128],\n",
        "       [-0.84544929, -0.74929199],\n",
        "       [ 0.80500477, -1.48626919],\n",
        "       [ 1.37087473, -0.71149829],\n",
        "       [ 0.78928616,  0.40341592],\n",
        "       [ 0.08194871,  0.15775686],\n",
        "       [ 0.49063257, -0.84377625],\n",
        "       [-0.32673515,  0.55459073],\n",
        "       [ 0.42775813, -0.16348961],\n",
        "       [ 0.33344647, -0.61701404],\n",
        "       [ 0.0662301 , -0.16348961],\n",
        "       [ 0.66353728,  1.66950495],\n",
        "       [ 0.60066284, -1.39178493],\n",
        "       [-0.43676542,  1.95295771],\n",
        "       [ 0.2234162 ,  0.34672537],\n",
        "       [-1.19125871, -0.73039514],\n",
        "       [ 0.08194871, -0.20128331],\n",
        "       [-0.20098627,  0.34672537],\n",
        "       [-0.68826318, -1.73192825],\n",
        "       [ 0.94647226, -1.69413455],\n",
        "       [ 0.09766732,  1.65060809],\n",
        "       [-1.22269593, -0.40914867],\n",
        "       [ 1.24512585, -0.48473608],\n",
        "       [ 0.86787921,  0.34672537]])"
       ]
      }
     ],
     "prompt_number": 49
    },
    {
     "cell_type": "code",
     "collapsed": false,
     "input": [
      "#Visualize linear classification algorithm\n",
      "classes = ['Winning Record', 'Losing Record']\n",
      "colors = ['red', 'greenyellow']\n",
      "recs = []\n",
      "linclassfig = plt.figure(figsize=(5,4))\n",
      "linclassscatter = linclassfig.add_subplot(1,1,1)\n",
      "for i in xrange(len(colors)):\n",
      "    px = X_train[:, 0][y_train == i]\n",
      "    py = X_train[:, 1][y_train == i]\n",
      "    linclassscatter.scatter(px, py, c=colors[i])\n",
      "    linclassscatter.set_xlabel('Standardized Offensive Yards Per Game')\n",
      "    linclassscatter.set_ylabel('Standardized Defensive Yards Per Game')\n",
      "    linclassscatter.set_title('Linear Classification Scatterplot')\n",
      "for i in range(0,len(colors)):\n",
      "    recs.append(mpatches.Rectangle((0,0),1,1,fc=colors[i]))\n",
      "    plt.legend(recs,classes,bbox_to_anchor=(1.55,1), loc=1)"
     ],
     "language": "python",
     "metadata": {},
     "outputs": [
      {
       "metadata": {},
       "output_type": "display_data",
       "png": "[encoded data removed]",
       "text": [
        "<matplotlib.figure.Figure at 0xd2ccf60>"
       ]
      }
     ],
     "prompt_number": 50
    },
    {
     "cell_type": "code",
     "collapsed": false,
     "input": [
      "from sklearn.linear_model import SGDClassifier\n",
      "clf = SGDClassifier()\n",
      "clf.fit(X_train, y_train)"
     ],
     "language": "python",
     "metadata": {},
     "outputs": [
      {
       "metadata": {},
       "output_type": "pyout",
       "prompt_number": 51,
       "text": [
        "SGDClassifier(alpha=0.0001, class_weight=None, epsilon=0.1, eta0=0.0,\n",
        "       fit_intercept=True, l1_ratio=0.15, learning_rate='optimal',\n",
        "       loss='hinge', n_iter=5, n_jobs=1, penalty='l2', power_t=0.5,\n",
        "       random_state=None, shuffle=False, verbose=0, warm_start=False)"
       ]
      }
     ],
     "prompt_number": 51
    },
    {
     "cell_type": "code",
     "collapsed": false,
     "input": [
      "clf.coef_"
     ],
     "language": "python",
     "metadata": {},
     "outputs": [
      {
       "metadata": {},
       "output_type": "pyout",
       "prompt_number": 52,
       "text": [
        "array([[ 10.23233619, -17.66672367]])"
       ]
      }
     ],
     "prompt_number": 52
    },
    {
     "cell_type": "code",
     "collapsed": false,
     "input": [
      "clf.intercept_"
     ],
     "language": "python",
     "metadata": {},
     "outputs": [
      {
       "metadata": {},
       "output_type": "pyout",
       "prompt_number": 53,
       "text": [
        "array([ 1.74879148])"
       ]
      }
     ],
     "prompt_number": 53
    },
    {
     "cell_type": "code",
     "collapsed": false,
     "input": [
      "from sklearn import metrics\n",
      "y_train_pred = clf.predict(X_train)\n",
      "metrics.accuracy_score(y_train, y_train_pred)"
     ],
     "language": "python",
     "metadata": {},
     "outputs": [
      {
       "metadata": {},
       "output_type": "pyout",
       "prompt_number": 54,
       "text": [
        "0.8314606741573034"
       ]
      }
     ],
     "prompt_number": 54
    },
    {
     "cell_type": "code",
     "collapsed": false,
     "input": [
      "y_pred = clf.predict(X_test)\n",
      "print metrics.accuracy_score(y_test, y_pred)"
     ],
     "language": "python",
     "metadata": {},
     "outputs": [
      {
       "output_type": "stream",
       "stream": "stdout",
       "text": [
        "0.866666666667\n"
       ]
      }
     ],
     "prompt_number": 55
    },
    {
     "cell_type": "code",
     "collapsed": false,
     "input": [
      "metrics.confusion_matrix(y_test, y_pred)"
     ],
     "language": "python",
     "metadata": {},
     "outputs": [
      {
       "metadata": {},
       "output_type": "pyout",
       "prompt_number": 56,
       "text": [
        "array([[15,  0],\n",
        "       [ 4, 11]])"
       ]
      }
     ],
     "prompt_number": 56
    },
    {
     "cell_type": "code",
     "collapsed": false,
     "input": [
      "#Of the 19 teams with a winning record, 15 were identified correctly and 4 incorrectly.  All 11 teams with a losing record were identified correctly."
     ],
     "language": "python",
     "metadata": {},
     "outputs": []
    },
    {
     "cell_type": "code",
     "collapsed": false,
     "input": [
      "#Create instance of PypeR and implement linear regression"
     ],
     "language": "python",
     "metadata": {},
     "outputs": []
    },
    {
     "cell_type": "code",
     "collapsed": false,
     "input": [
      "r = pr.R(RCMD = 'C:\\\\Program Files\\\\R\\\\R-3.0.1\\\\bin\\\\R', use_pandas = True)"
     ],
     "language": "python",
     "metadata": {},
     "outputs": [],
     "prompt_number": 57
    },
    {
     "cell_type": "code",
     "collapsed": false,
     "input": [
      "r(\"setwd('C:\\\\Users\\\\Matthew\\\\Documents\\\\CMDA 3654 - Intro to Data Analytics and Visualization\\\\R\\\\Datasets')\")"
     ],
     "language": "python",
     "metadata": {},
     "outputs": [
      {
       "metadata": {},
       "output_type": "pyout",
       "prompt_number": 58,
       "text": [
        "\"try({setwd('C:\\\\\\\\Users\\\\\\\\Matthew\\\\\\\\Documents\\\\\\\\CMDA 3654 - Intro to Data Analytics and Visualization\\\\\\\\R\\\\\\\\Datasets')})\\r\\n\""
       ]
      }
     ],
     "prompt_number": 58
    },
    {
     "cell_type": "code",
     "collapsed": false,
     "input": [
      "r(\"fbcleanr = read.table('fbclean.csv', sep=',', header=T)\")"
     ],
     "language": "python",
     "metadata": {},
     "outputs": [
      {
       "metadata": {},
       "output_type": "pyout",
       "prompt_number": 59,
       "text": [
        "\"try({fbcleanr = read.table('fbclean.csv', sep=',', header=T)})\\r\\n\""
       ]
      }
     ],
     "prompt_number": 59
    },
    {
     "cell_type": "code",
     "collapsed": false,
     "input": [
      "r(\"dim(fbcleanr)\")"
     ],
     "language": "python",
     "metadata": {},
     "outputs": [
      {
       "metadata": {},
       "output_type": "pyout",
       "prompt_number": 60,
       "text": [
        "'try({dim(fbcleanr)})\\r\\n[1] 119  11\\r\\n'"
       ]
      }
     ],
     "prompt_number": 60
    },
    {
     "cell_type": "code",
     "collapsed": false,
     "input": [
      "r(\"names(fbcleanr)\")"
     ],
     "language": "python",
     "metadata": {},
     "outputs": [
      {
       "metadata": {},
       "output_type": "pyout",
       "prompt_number": 61,
       "text": [
        "'try({names(fbcleanr)})\\r\\n [1] \"X\"                     \"TEAM\"                  \"YDSG\"                 \\r\\n [4] \"P.YDSG\"                \"R.YDSG\"                \"Winning.Percentage\"   \\r\\n [7] \"YDSAG\"                 \"NETPUNT\"               \"PUNTRETAVG\"           \\r\\n[10] \"Winning.Record\"        \"Winning.Record.Binary\"\\r\\n'"
       ]
      }
     ],
     "prompt_number": 61
    },
    {
     "cell_type": "code",
     "collapsed": false,
     "input": [
      "r(\"attach(fbcleanr)\")"
     ],
     "language": "python",
     "metadata": {},
     "outputs": [
      {
       "metadata": {},
       "output_type": "pyout",
       "prompt_number": 62,
       "text": [
        "'try({attach(fbcleanr)})\\r\\n'"
       ]
      }
     ],
     "prompt_number": 62
    },
    {
     "cell_type": "code",
     "collapsed": false,
     "input": [
      "r(\"model = lm(Winning.Percentage ~ YDSG + YDSAG + NETPUNT + PUNTRETAVG)\")"
     ],
     "language": "python",
     "metadata": {},
     "outputs": [
      {
       "metadata": {},
       "output_type": "pyout",
       "prompt_number": 63,
       "text": [
        "'try({model = lm(Winning.Percentage ~ YDSG + YDSAG + NETPUNT + PUNTRETAVG)})\\r\\n'"
       ]
      }
     ],
     "prompt_number": 63
    },
    {
     "cell_type": "code",
     "collapsed": false,
     "input": [
      "r(\"summary(model)\")"
     ],
     "language": "python",
     "metadata": {},
     "outputs": [
      {
       "metadata": {},
       "output_type": "pyout",
       "prompt_number": 64,
       "text": [
        "\"try({summary(model)})\\r\\n\\r\\nCall:\\r\\nlm(formula = Winning.Percentage ~ YDSG + YDSAG + NETPUNT + PUNTRETAVG)\\r\\n\\r\\nResiduals:\\r\\n     Min       1Q   Median       3Q      Max \\r\\n-0.27424 -0.07493 -0.00750  0.10449  0.24461 \\r\\n\\r\\nCoefficients:\\r\\n              Estimate Std. Error t value Pr(>|t|)    \\r\\n(Intercept)  0.3379925  0.2086309   1.620    0.108    \\r\\nYDSG         0.0022634  0.0001706  13.270   <2e-16 ***\\r\\nYDSAG       -0.0023070  0.0002010 -11.479   <2e-16 ***\\r\\nNETPUNT      0.0040023  0.0052754   0.759    0.450    \\r\\nPUNTRETAVG   0.0031024  0.0032242   0.962    0.338    \\r\\n---\\r\\nSignif. codes:  0 '***' 0.001 '**' 0.01 '*' 0.05 '.' 0.1 ' ' 1\\r\\n\\r\\nResidual standard error: 0.1184 on 114 degrees of freedom\\r\\nMultiple R-squared:  0.7541,\\tAdjusted R-squared:  0.7455 \\r\\nF-statistic:  87.4 on 4 and 114 DF,  p-value: < 2.2e-16\\r\\n\\r\\n\""
       ]
      }
     ],
     "prompt_number": 64
    },
    {
     "cell_type": "code",
     "collapsed": false,
     "input": [
      "#The most important factors are offenseive yards and defensive yards allowed.\n",
      "#R-squared adjusted equals 0.7455, meaning that about 75% of the variance in winning percentage could be explained by our model\n",
      "#The model's effectiveness could likely be increased by performing a dimensionality reduction."
     ],
     "language": "python",
     "metadata": {},
     "outputs": []
    }
   ],
   "metadata": {}
  }
 ]
}